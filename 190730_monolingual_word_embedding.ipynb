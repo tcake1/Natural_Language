{
  "nbformat": 4,
  "nbformat_minor": 0,
  "metadata": {
    "colab": {
      "name": "190730-monolingual_word_embedding.ipynb",
      "version": "0.3.2",
      "provenance": [],
      "collapsed_sections": [],
      "toc_visible": true
    },
    "kernelspec": {
      "name": "python3",
      "display_name": "Python 3"
    }
  },
  "cells": [
    {
      "cell_type": "markdown",
      "metadata": {
        "id": "HL5eq6P1-COr",
        "colab_type": "text"
      },
      "source": [
        "# **Github project download**"
      ]
    },
    {
      "cell_type": "code",
      "metadata": {
        "id": "2VuYe71yq__Z",
        "colab_type": "code",
        "outputId": "00a7f650-4c57-4c14-e906-1ba4ce7dc071",
        "colab": {
          "base_uri": "https://localhost:8080/",
          "height": 122
        }
      },
      "source": [
        "import os.path\n",
        "\n",
        "if os.path.isdir('./korean_word_embedding_tutorial') == 'True':  \n",
        "  !rm -r ./korean_word_embedding_tutorial\n",
        "  !git clone https://github.com/sseol11/korean_word_embedding_tutorial\n",
        "else: \n",
        "  !git clone https://github.com/sseol11/korean_word_embedding_tutorial"
      ],
      "execution_count": 0,
      "outputs": [
        {
          "output_type": "stream",
          "text": [
            "Cloning into 'korean_word_embedding_tutorial'...\n",
            "remote: Enumerating objects: 41, done.\u001b[K\n",
            "remote: Counting objects: 100% (41/41), done.\u001b[K\n",
            "remote: Compressing objects: 100% (38/38), done.\u001b[K\n",
            "remote: Total 41 (delta 10), reused 0 (delta 0), pack-reused 0\u001b[K\n",
            "Unpacking objects: 100% (41/41), done.\n"
          ],
          "name": "stdout"
        }
      ]
    },
    {
      "cell_type": "code",
      "metadata": {
        "id": "QKmxPsx_rhd_",
        "colab_type": "code",
        "colab": {}
      },
      "source": [
        "!mkdir korean_word_embedding_tutorial/training_data"
      ],
      "execution_count": 0,
      "outputs": []
    },
    {
      "cell_type": "markdown",
      "metadata": {
        "id": "cybogIcb-MuL",
        "colab_type": "text"
      },
      "source": [
        "# **Training data download**"
      ]
    },
    {
      "cell_type": "code",
      "metadata": {
        "id": "qEMBwpqR187a",
        "colab_type": "code",
        "outputId": "1f06f1f5-22fa-4d05-ce65-ef5bfa29a63a",
        "colab": {
          "base_uri": "https://localhost:8080/",
          "height": 389
        }
      },
      "source": [
        "#!wget --no-check-certificate -r 'https://drive.google.com/uc?export=download&id=1SaIMXjnsCHakT7sDo2ATaUUZb1k9x3No' -O pos_remove_wiki_ko.txt\n",
        "!wget \"https://www.dropbox.com/s/ozcb1b0mwlp4g2h/pos_remove_wiki_ko_1000k.txt?dl=0\" -O pos_remove_wiki_ko.txt\n",
        "!mv pos_remove_wiki_ko.txt ./korean_word_embedding_tutorial/training_data"
      ],
      "execution_count": 0,
      "outputs": [
        {
          "output_type": "stream",
          "text": [
            "--2019-07-31 10:46:12--  https://www.dropbox.com/s/ozcb1b0mwlp4g2h/pos_remove_wiki_ko_1000k.txt?dl=0\n",
            "Resolving www.dropbox.com (www.dropbox.com)... 162.125.9.1, 2620:100:601f:1::a27d:901\n",
            "Connecting to www.dropbox.com (www.dropbox.com)|162.125.9.1|:443... connected.\n",
            "HTTP request sent, awaiting response... 301 Moved Permanently\n",
            "Location: /s/raw/ozcb1b0mwlp4g2h/pos_remove_wiki_ko_1000k.txt [following]\n",
            "--2019-07-31 10:46:12--  https://www.dropbox.com/s/raw/ozcb1b0mwlp4g2h/pos_remove_wiki_ko_1000k.txt\n",
            "Reusing existing connection to www.dropbox.com:443.\n",
            "HTTP request sent, awaiting response... 302 Found\n",
            "Location: https://ucbcd89f7d35927db75790045b94.dl.dropboxusercontent.com/cd/0/inline/AltnIQEs40nsR3ur6QiJD2JMruBUyGql2EVWESPimPZ3m2pLvDtRPRHrj8egYF8hxL44_qrbgZqyS08etT8d6MXpOJ4pCSCH_djxGW-Hqp0U2A/file# [following]\n",
            "--2019-07-31 10:46:13--  https://ucbcd89f7d35927db75790045b94.dl.dropboxusercontent.com/cd/0/inline/AltnIQEs40nsR3ur6QiJD2JMruBUyGql2EVWESPimPZ3m2pLvDtRPRHrj8egYF8hxL44_qrbgZqyS08etT8d6MXpOJ4pCSCH_djxGW-Hqp0U2A/file\n",
            "Resolving ucbcd89f7d35927db75790045b94.dl.dropboxusercontent.com (ucbcd89f7d35927db75790045b94.dl.dropboxusercontent.com)... 162.125.9.6, 2620:100:601f:6::a27d:906\n",
            "Connecting to ucbcd89f7d35927db75790045b94.dl.dropboxusercontent.com (ucbcd89f7d35927db75790045b94.dl.dropboxusercontent.com)|162.125.9.6|:443... connected.\n",
            "HTTP request sent, awaiting response... 200 OK\n",
            "Length: 160376859 (153M) [text/plain]\n",
            "Saving to: ‘pos_remove_wiki_ko.txt’\n",
            "\n",
            "pos_remove_wiki_ko. 100%[===================>] 152.95M  60.0MB/s    in 2.6s    \n",
            "\n",
            "2019-07-31 10:46:16 (60.0 MB/s) - ‘pos_remove_wiki_ko.txt’ saved [160376859/160376859]\n",
            "\n"
          ],
          "name": "stdout"
        }
      ]
    },
    {
      "cell_type": "code",
      "metadata": {
        "id": "Yn7E1fuCL5S_",
        "colab_type": "code",
        "outputId": "e459f7bf-0ddf-4974-bda9-252e5842db7d",
        "colab": {
          "base_uri": "https://localhost:8080/",
          "height": 34
        }
      },
      "source": [
        "!wc -l ./korean_word_embedding_tutorial/training_data/pos_remove_wiki_ko.txt"
      ],
      "execution_count": 0,
      "outputs": [
        {
          "output_type": "stream",
          "text": [
            "1000000 ./korean_word_embedding_tutorial/training_data/pos_remove_wiki_ko.txt\n"
          ],
          "name": "stdout"
        }
      ]
    },
    {
      "cell_type": "markdown",
      "metadata": {
        "id": "tSjoYzIjiJHm",
        "colab_type": "text"
      },
      "source": [
        "# Environment check"
      ]
    },
    {
      "cell_type": "code",
      "metadata": {
        "id": "6-qjHvyvM2hq",
        "colab_type": "code",
        "outputId": "9966f2da-0578-474e-9dd1-22995e7813ea",
        "colab": {
          "base_uri": "https://localhost:8080/",
          "height": 34
        }
      },
      "source": [
        "#no.of cores each processor is having \n",
        "!lscpu | grep 'Core(s) per socket:'"
      ],
      "execution_count": 0,
      "outputs": [
        {
          "output_type": "stream",
          "text": [
            "Core(s) per socket:  1\n"
          ],
          "name": "stdout"
        }
      ]
    },
    {
      "cell_type": "code",
      "metadata": {
        "id": "GYuh70blM3ZT",
        "colab_type": "code",
        "outputId": "05916edb-91a2-46db-b462-fb03de563034",
        "colab": {
          "base_uri": "https://localhost:8080/",
          "height": 34
        }
      },
      "source": [
        "#no.of threads each core is having\n",
        "!lscpu | grep 'Thread(s) per core'"
      ],
      "execution_count": 0,
      "outputs": [
        {
          "output_type": "stream",
          "text": [
            "Thread(s) per core:  2\n"
          ],
          "name": "stdout"
        }
      ]
    },
    {
      "cell_type": "markdown",
      "metadata": {
        "id": "jv0jWNMRF2Tg",
        "colab_type": "text"
      },
      "source": [
        "# **1. Training**"
      ]
    },
    {
      "cell_type": "code",
      "metadata": {
        "id": "BwokUjrGF9tZ",
        "colab_type": "code",
        "colab": {}
      },
      "source": [
        "from gensim.models import word2vec\n",
        "import logging"
      ],
      "execution_count": 0,
      "outputs": []
    },
    {
      "cell_type": "code",
      "metadata": {
        "id": "AfTZzu8sGCRQ",
        "colab_type": "code",
        "colab": {}
      },
      "source": [
        "def train_model():\n",
        "    # import modules & set up logging\n",
        "    logging.basicConfig(format='%(asctime)s : %(levelname)s : %(message)s', level=logging.INFO)\n",
        "\n",
        "    # read sentences, Iterate over a file that contains sentences\n",
        "    sentences = word2vec.LineSentence('./korean_word_embedding_tutorial/training_data/pos_remove_wiki_ko.txt')\n",
        "    \n",
        "      # train word2vec, sg=1 : skip-gram // workers : parallelization\n",
        "    model = word2vec.Word2Vec(sentences, window=5, sg=1, size=300, workers=2)\n",
        "    \n",
        "    # model save\n",
        "    model.save(\"./korean_word_embedding_tutorial/wiki_ko_model\")\n",
        "\n",
        "\n"
      ],
      "execution_count": 0,
      "outputs": []
    },
    {
      "cell_type": "code",
      "metadata": {
        "id": "R9qsK0J2G6uR",
        "colab_type": "code",
        "colab": {}
      },
      "source": [
        "def model_example():\n",
        "  \n",
        "  try:\n",
        "    model = word2vec.Word2Vec.load('./korean_word_embedding_tutorial/wiki_ko_model')\n",
        "    vector = model.wv['서울']\n",
        "    print(vector)\n",
        "  except KeyError:\n",
        "    print(\"This word not in vocabulary\")\n",
        "  \n",
        "  try:\n",
        "    target_word = ['서울']\n",
        "    print(model.wv.most_similar(positive=target_word, topn=6))\n",
        "   \n",
        "  except KeyError:\n",
        "    print(\"This word not in vocabulary\")\n",
        "  \n",
        "  "
      ],
      "execution_count": 0,
      "outputs": []
    },
    {
      "cell_type": "code",
      "metadata": {
        "id": "UTCymYWrG2oV",
        "colab_type": "code",
        "outputId": "1a2b1089-44d6-4d8d-c196-399d9add3add",
        "colab": {
          "base_uri": "https://localhost:8080/",
          "height": 1000
        }
      },
      "source": [
        "if __name__ == \"__main__\":\n",
        "    train_model()\n",
        "    model_example()"
      ],
      "execution_count": 11,
      "outputs": [
        {
          "output_type": "stream",
          "text": [
            "2019-07-31 11:24:09,542 : INFO : loading Word2Vec object from ./korean_word_embedding_tutorial/wiki_ko_model\n",
            "/usr/local/lib/python3.6/dist-packages/smart_open/smart_open_lib.py:398: UserWarning: This function is deprecated, use smart_open.open instead. See the migration notes for details: https://github.com/RaRe-Technologies/smart_open/blob/master/README.rst#migrating-to-the-new-open-function\n",
            "  'See the migration notes for details: %s' % _MIGRATION_NOTES_URL\n",
            "2019-07-31 11:24:09,976 : INFO : loading wv recursively from ./korean_word_embedding_tutorial/wiki_ko_model.wv.* with mmap=None\n",
            "2019-07-31 11:24:09,978 : INFO : loading vectors from ./korean_word_embedding_tutorial/wiki_ko_model.wv.vectors.npy with mmap=None\n",
            "2019-07-31 11:24:10,040 : INFO : setting ignored attribute vectors_norm to None\n",
            "2019-07-31 11:24:10,041 : INFO : loading vocabulary recursively from ./korean_word_embedding_tutorial/wiki_ko_model.vocabulary.* with mmap=None\n",
            "2019-07-31 11:24:10,042 : INFO : loading trainables recursively from ./korean_word_embedding_tutorial/wiki_ko_model.trainables.* with mmap=None\n",
            "2019-07-31 11:24:10,044 : INFO : loading syn1neg from ./korean_word_embedding_tutorial/wiki_ko_model.trainables.syn1neg.npy with mmap=None\n",
            "2019-07-31 11:24:10,105 : INFO : setting ignored attribute cum_table to None\n",
            "2019-07-31 11:24:10,107 : INFO : loaded ./korean_word_embedding_tutorial/wiki_ko_model\n",
            "2019-07-31 11:24:10,367 : INFO : precomputing L2-norms of word weight vectors\n"
          ],
          "name": "stderr"
        },
        {
          "output_type": "stream",
          "text": [
            "[-2.51316965e-01  2.11488008e-01 -3.34933937e-01 -6.11815631e-01\n",
            " -4.22959626e-01 -2.40512192e-01  5.82522392e-01 -3.00326824e-01\n",
            "  1.08375669e-01 -2.27282405e-01 -2.37971731e-02 -4.79722738e-01\n",
            " -7.93749392e-02  1.41222715e-01 -2.88862828e-02  1.31787598e-01\n",
            "  4.61234450e-02 -8.90208110e-02 -2.30494812e-01 -2.38666192e-01\n",
            " -3.04258823e-01 -1.42873257e-01 -2.17888672e-02 -1.41863674e-01\n",
            " -2.20669225e-01 -1.37752211e-02 -1.02522215e-02 -2.88066179e-01\n",
            " -8.04238170e-02 -2.27421850e-01 -2.11372286e-01 -1.85575053e-01\n",
            " -9.10297036e-03  3.52033406e-01 -1.10369205e-01 -4.39377315e-02\n",
            "  6.89034164e-02  2.12607101e-01  5.92955589e-01 -8.34533051e-02\n",
            " -2.44488865e-02  8.96803811e-02  9.02061462e-02 -4.23496366e-02\n",
            " -2.77132511e-01  2.39699334e-01 -7.39198700e-02  4.73820984e-01\n",
            " -4.61050458e-02  1.03358403e-01 -1.35463342e-01 -4.09267277e-01\n",
            " -9.50395465e-02 -3.76792438e-02 -1.27669007e-01  1.67556599e-01\n",
            " -1.70980468e-01  8.23855996e-02 -2.33572707e-01 -1.75220534e-01\n",
            "  3.07452623e-02  2.67277628e-01 -6.50871471e-02  5.63678026e-01\n",
            " -1.98032245e-01 -3.99680883e-01  1.20428935e-01  2.03942150e-01\n",
            " -1.34743646e-01  5.01811981e-01  3.97321045e-01  2.58177161e-01\n",
            "  3.28866810e-01  1.10152103e-01 -5.78280240e-02  6.18090406e-02\n",
            " -3.16933036e-01 -2.72253364e-01 -5.15016377e-01 -4.22494769e-01\n",
            " -4.65436041e-01 -2.06265241e-01  2.39969373e-01  4.22495604e-02\n",
            "  5.97730219e-01  5.22790253e-01 -1.66148767e-02  3.77981178e-02\n",
            " -1.19717345e-01  1.63019001e-02 -1.30944222e-01 -4.09586765e-02\n",
            " -5.24510443e-01  2.61417478e-01  3.13137382e-01  4.18652266e-01\n",
            " -1.57662425e-02 -1.04538970e-01 -1.24039553e-01 -1.69549420e-01\n",
            " -3.36535484e-01  3.40122968e-01  2.66562641e-01 -2.38453448e-01\n",
            " -2.32010990e-01  5.18403053e-01 -5.46372496e-02  9.23004597e-02\n",
            "  3.00478172e-02 -3.94834369e-01  1.67238355e-01 -1.85159445e-02\n",
            " -1.60642937e-02 -8.43735263e-02  2.43596241e-01 -2.75680691e-01\n",
            " -5.14796078e-02  3.82171631e-01  1.39253542e-01  1.55098110e-01\n",
            "  8.30999315e-02  2.75904220e-02  1.30153596e-01  1.22582965e-01\n",
            "  2.14285180e-01 -1.81209862e-01  3.47528085e-02  1.17997088e-01\n",
            "  3.95045698e-01 -3.63129675e-01 -4.50868771e-04 -1.12534657e-01\n",
            "  3.81214350e-01  2.91794777e-01  8.96844417e-02 -1.86063543e-01\n",
            "  2.70039648e-01  1.32948896e-02 -7.10822940e-02  2.19936773e-01\n",
            "  6.19566487e-03 -1.05951071e-01  7.99362808e-02  1.61455601e-01\n",
            " -6.73131421e-02 -1.25049517e-01  3.01409990e-01 -1.27140447e-01\n",
            "  3.22087497e-01  3.51931974e-02  3.41769546e-01  2.93491304e-01\n",
            "  5.29290736e-01 -1.80110335e-01 -9.27552134e-02  5.76898716e-02\n",
            "  4.07237083e-01  1.63469076e-01  1.43551677e-01  3.11137050e-01\n",
            " -6.01923391e-02  2.72946686e-01  2.44931296e-01 -1.30707830e-01\n",
            "  2.18352139e-01 -1.96780205e-01 -2.73916185e-01 -1.34117767e-01\n",
            " -1.36698959e-02 -1.09046757e-01  9.92172807e-02 -2.03202382e-01\n",
            "  2.32778326e-01  2.57668197e-01  1.68384597e-01  8.98223668e-02\n",
            " -4.66593634e-03  2.22562209e-01  5.87194413e-02 -3.25005618e-03\n",
            "  2.45995168e-02 -3.89590934e-02 -1.32195041e-01 -2.61778057e-01\n",
            "  1.40114814e-01 -3.26421142e-01 -2.33077817e-03  2.27717265e-01\n",
            " -3.54455352e-01 -4.26948257e-02 -2.62832791e-02 -3.64539415e-01\n",
            " -9.36898217e-02 -2.41476610e-01 -4.41738516e-01  4.03704703e-01\n",
            "  2.09650949e-01  6.37106597e-02  1.14403963e-01 -2.04228669e-01\n",
            "  1.56551391e-01  1.66835010e-01  4.63872373e-01  2.53499031e-01\n",
            "  8.57507139e-02 -4.30072546e-01  5.73983371e-01 -8.57832506e-02\n",
            " -8.80250558e-02  2.20840439e-01  7.96785131e-02 -1.51325241e-01\n",
            " -3.88473496e-02  2.79426545e-01 -5.47351718e-01 -5.91250323e-02\n",
            "  2.96216458e-01  2.89466362e-02  9.01416838e-02 -9.04943496e-02\n",
            "  6.57561347e-02 -3.16441864e-01  9.92662758e-02 -2.51253489e-02\n",
            "  4.88997884e-02  6.42058998e-02 -1.59154445e-01 -1.88203990e-01\n",
            "  5.67514360e-01 -5.21086395e-01 -2.88713396e-01 -4.75722849e-02\n",
            " -2.58518338e-01  3.32293481e-01  6.49815023e-01 -5.31521618e-01\n",
            "  1.90266103e-01  1.03081442e-01 -1.43471733e-01  3.66161853e-01\n",
            " -1.66363511e-02 -1.29198208e-01  4.32105094e-01 -1.44633979e-01\n",
            "  1.63347766e-01 -4.21246141e-02 -3.98900360e-01  9.91362408e-02\n",
            "  2.79156696e-02  7.93520659e-02 -2.62225986e-01 -5.04068792e-01\n",
            " -6.88772976e-01 -6.45524561e-01  2.41448194e-01  2.15163827e-01\n",
            " -1.03001238e-03 -1.03000991e-01  8.97946000e-01 -1.34426177e-01\n",
            " -6.03742935e-02  2.30171114e-01  4.32866886e-02  1.46239504e-01\n",
            "  1.20315559e-01 -3.72207969e-01 -1.43557310e-01  3.33005309e-01\n",
            " -2.76911765e-01  1.71651617e-02 -2.21787587e-01 -3.09263803e-02\n",
            " -5.08441105e-02  5.78582644e-01  1.56394944e-01 -3.04799359e-02\n",
            " -1.83331102e-01 -1.12434067e-01 -3.32384318e-01 -3.53774697e-01\n",
            "  1.16980448e-01  3.91188234e-01  4.43983316e-01  8.58057197e-03\n",
            " -8.73646066e-02  8.13524500e-02 -1.14363953e-02  1.51939228e-01\n",
            "  2.05335170e-01  2.06383213e-01 -4.47312417e-03 -2.21768364e-01\n",
            "  4.81255315e-02 -2.60642946e-01  2.80923337e-01  1.00118890e-01\n",
            "  1.07803561e-01  6.61435425e-02  1.26384869e-02  3.79151702e-02]\n",
            "[('부산', 0.6694176197052002), ('인천', 0.6515636444091797), ('대구', 0.6462142467498779), ('서울특별시', 0.6203153729438782), ('종로', 0.5957136154174805), ('종로구', 0.5907125473022461)]\n"
          ],
          "name": "stdout"
        },
        {
          "output_type": "stream",
          "text": [
            "/usr/local/lib/python3.6/dist-packages/gensim/matutils.py:737: FutureWarning: Conversion of the second argument of issubdtype from `int` to `np.signedinteger` is deprecated. In future, it will be treated as `np.int64 == np.dtype(int).type`.\n",
            "  if np.issubdtype(vec.dtype, np.int):\n"
          ],
          "name": "stderr"
        }
      ]
    },
    {
      "cell_type": "markdown",
      "metadata": {
        "id": "c_vZmwnHHogU",
        "colab_type": "text"
      },
      "source": [
        "# 1.1 Pretrained model (부가사항)"
      ]
    },
    {
      "cell_type": "markdown",
      "metadata": {
        "id": "k7ABKzqVIYZd",
        "colab_type": "text"
      },
      "source": [
        "\n",
        "*  **2430k lines wikipedia korea data pretrained model**\n",
        "*  **본 실습모델보다 학습량이 많은 모델**\n",
        "\n",
        "\n"
      ]
    },
    {
      "cell_type": "code",
      "metadata": {
        "id": "yd5NkFLbHoHO",
        "colab_type": "code",
        "outputId": "b622a0d9-c5d0-4d7a-89b7-fe5d6d4a5a8a",
        "colab": {
          "base_uri": "https://localhost:8080/",
          "height": 494
        }
      },
      "source": [
        "!mkdir ./korean_word_embedding_tutorial/pre_trained_model\n",
        "!wget \"https://www.dropbox.com/sh/bvvj3c650zshaju/AADfgmvxx_A6PvaxuaE5GNQka?dl=0\" -O pre_trained_model.zip\n",
        "!unzip pre_trained_model.zip -d ./korean_word_embedding_tutorial/pre_trained_model/\n",
        "!rm pre_trained_model.zip"
      ],
      "execution_count": 12,
      "outputs": [
        {
          "output_type": "stream",
          "text": [
            "--2019-07-31 11:24:23--  https://www.dropbox.com/sh/bvvj3c650zshaju/AADfgmvxx_A6PvaxuaE5GNQka?dl=0\n",
            "Resolving www.dropbox.com (www.dropbox.com)... 162.125.9.1, 2620:100:601f:1::a27d:901\n",
            "Connecting to www.dropbox.com (www.dropbox.com)|162.125.9.1|:443... connected.\n",
            "HTTP request sent, awaiting response... 301 Moved Permanently\n",
            "Location: /sh/raw/bvvj3c650zshaju/AADfgmvxx_A6PvaxuaE5GNQka [following]\n",
            "--2019-07-31 11:24:23--  https://www.dropbox.com/sh/raw/bvvj3c650zshaju/AADfgmvxx_A6PvaxuaE5GNQka\n",
            "Reusing existing connection to www.dropbox.com:443.\n",
            "HTTP request sent, awaiting response... 302 Found\n",
            "Location: https://uc58c109acfc1b7ebd02c1fe8b3f.dl.dropboxusercontent.com/zip_by_token_key?key=AltNEQp0H5TG4sfe-_uYzECO34XFvGFj6wgs0Js2E5JlsBTZZxdk_aXyo_E0DJF2X5YdLGU_mpYBgzGwBqFssA4Cln0htu2rOl03hNdtr9qqEN_NNUMvQXAyqv-Xv93z6ptYB3EdrF--1tESZv--URhox5sPK2NHZaCQK3sWDeLZoiWxVdyLHSAP22kD17gnLw2fTZqKLvqxxcpNLp84KQT9uAVpz-FFjDC7ca3jKU4-ZcxCgdTOXHW41VjTXhicb47ueFC--04hspygI8t1Rg3N9OLxELgKrdG4WnlkvoFLQac7Bf9l1_NyZpR6aPZ-jhwYax_aA2ee-QEtzCIrANizYtPiHX3uXmC0kPWAkdTsJg [following]\n",
            "--2019-07-31 11:24:24--  https://uc58c109acfc1b7ebd02c1fe8b3f.dl.dropboxusercontent.com/zip_by_token_key?key=AltNEQp0H5TG4sfe-_uYzECO34XFvGFj6wgs0Js2E5JlsBTZZxdk_aXyo_E0DJF2X5YdLGU_mpYBgzGwBqFssA4Cln0htu2rOl03hNdtr9qqEN_NNUMvQXAyqv-Xv93z6ptYB3EdrF--1tESZv--URhox5sPK2NHZaCQK3sWDeLZoiWxVdyLHSAP22kD17gnLw2fTZqKLvqxxcpNLp84KQT9uAVpz-FFjDC7ca3jKU4-ZcxCgdTOXHW41VjTXhicb47ueFC--04hspygI8t1Rg3N9OLxELgKrdG4WnlkvoFLQac7Bf9l1_NyZpR6aPZ-jhwYax_aA2ee-QEtzCIrANizYtPiHX3uXmC0kPWAkdTsJg\n",
            "Resolving uc58c109acfc1b7ebd02c1fe8b3f.dl.dropboxusercontent.com (uc58c109acfc1b7ebd02c1fe8b3f.dl.dropboxusercontent.com)... 162.125.8.6, 2620:100:601b:6::a27d:806\n",
            "Connecting to uc58c109acfc1b7ebd02c1fe8b3f.dl.dropboxusercontent.com (uc58c109acfc1b7ebd02c1fe8b3f.dl.dropboxusercontent.com)|162.125.8.6|:443... connected.\n",
            "HTTP request sent, awaiting response... 200 OK\n",
            "Length: unspecified [application/zip]\n",
            "Saving to: ‘pre_trained_model.zip’\n",
            "\n",
            "pre_trained_model.z     [      <=>           ] 278.71M  15.4MB/s    in 20s     \n",
            "\n",
            "2019-07-31 11:24:45 (14.1 MB/s) - ‘pre_trained_model.zip’ saved [292248838]\n",
            "\n",
            "Archive:  pre_trained_model.zip\n",
            "warning:  stripped absolute path spec from /\n",
            "mapname:  conversion of  failed\n",
            "  inflating: ./korean_word_embedding_tutorial/pre_trained_model/wiki_ko_model.wv.syn0.npy  \n",
            "  inflating: ./korean_word_embedding_tutorial/pre_trained_model/wiki_ko_model.syn1neg.npy  \n",
            "  inflating: ./korean_word_embedding_tutorial/pre_trained_model/wiki_ko_model  \n"
          ],
          "name": "stdout"
        }
      ]
    },
    {
      "cell_type": "markdown",
      "metadata": {
        "id": "d7UBZdo6bvlV",
        "colab_type": "text"
      },
      "source": [
        "# 2. Visualization"
      ]
    },
    {
      "cell_type": "code",
      "metadata": {
        "id": "NNdU7Ilxbyff",
        "colab_type": "code",
        "colab": {}
      },
      "source": [
        "!mkdir ./korean_word_embedding_tutorial/visualization"
      ],
      "execution_count": 0,
      "outputs": []
    },
    {
      "cell_type": "code",
      "metadata": {
        "id": "CZscUxKub09U",
        "colab_type": "code",
        "colab": {}
      },
      "source": [
        "from collections import Counter\n",
        "from gensim.models import Word2Vec\n",
        "import re"
      ],
      "execution_count": 0,
      "outputs": []
    },
    {
      "cell_type": "code",
      "metadata": {
        "id": "JM8SbQ3_b2HR",
        "colab_type": "code",
        "colab": {}
      },
      "source": [
        "root_path = './korean_word_embedding_tutorial/'\n",
        "\n",
        "def visualization_tsv():\n",
        "    model = Word2Vec.load(root_path + 'wiki_ko_model')\n",
        "\n",
        "    try:\n",
        "        num_rows = len(model.vocab)\n",
        "    except:\n",
        "        model.vocab = model.wv.vocab\n",
        "        num_rows = len(model.vocab)\n",
        "\n",
        "    dim = model.vector_size\n",
        "\n",
        "    global tensor_out_fn\n",
        "    global labels_out_fn\n",
        "\n",
        "    tensor_out_fn = root_path + 'visualization/wiki_ko_model_%d_%dd_tensors.tsv' % (num_rows, dim)\n",
        "    labels_out_fn = root_path + 'visualization/wiki_ko_model_%d_%dd_labels.tsv' % (num_rows, dim)\n",
        "\n",
        "    try:\n",
        "        labels_out = open(labels_out_fn, 'w', encoding='utf-8')\n",
        "    except:\n",
        "        labels_out = open(labels_out_fn, 'w')\n",
        "\n",
        "    labels_out.write('word\\tlanguage\\tcount\\n')\n",
        "    wv_list = []\n",
        "\n",
        "    counter = {}\n",
        "    for wd in model.vocab:\n",
        "        counter[wd] = model.vocab[wd].count\n",
        "    counter = Counter(counter)\n",
        "    common = counter.most_common(5000)\n",
        "    words, _ = zip(*common)\n",
        "\n",
        "    for wd in words:\n",
        "        ww = model[wd].tolist()\n",
        "        assert dim == len(ww)\n",
        "        assert '\\t' not in wd\n",
        "        wv_list.append(ww)\n",
        "\n",
        "        try:\n",
        "            labels_out.write('%s\\t%s\\t%s\\n' % (wd, 'ko', model.vocab[wd].count))\n",
        "        except:\n",
        "            labels_out.write(('%s\\t%s\\t%s\\n' % (wd, 'ko', model.vocab[wd].count)).encode('utf-8'))\n",
        "\n",
        "    with open(tensor_out_fn, 'w') as fw:\n",
        "        for i in wv_list:\n",
        "            fw.write(\"%s\\n\" % (str(i).replace(', ', '\\t').replace('[', '').replace(']', '')))\n",
        "\n",
        "    labels_out.close()"
      ],
      "execution_count": 0,
      "outputs": []
    },
    {
      "cell_type": "code",
      "metadata": {
        "id": "SdSOp0pPb4Pb",
        "colab_type": "code",
        "outputId": "1c4d7511-5091-40da-9c3c-6ccee2995a39",
        "colab": {
          "base_uri": "https://localhost:8080/",
          "height": 248
        }
      },
      "source": [
        "if __name__ ==\"__main__\":\n",
        "    visualization_tsv()\n",
        "    \n",
        "    "
      ],
      "execution_count": 20,
      "outputs": [
        {
          "output_type": "stream",
          "text": [
            "2019-07-31 11:32:48,154 : INFO : loading Word2Vec object from ./korean_word_embedding_tutorial/wiki_ko_model\n",
            "/usr/local/lib/python3.6/dist-packages/smart_open/smart_open_lib.py:398: UserWarning: This function is deprecated, use smart_open.open instead. See the migration notes for details: https://github.com/RaRe-Technologies/smart_open/blob/master/README.rst#migrating-to-the-new-open-function\n",
            "  'See the migration notes for details: %s' % _MIGRATION_NOTES_URL\n",
            "2019-07-31 11:32:48,465 : INFO : loading wv recursively from ./korean_word_embedding_tutorial/wiki_ko_model.wv.* with mmap=None\n",
            "2019-07-31 11:32:48,466 : INFO : loading vectors from ./korean_word_embedding_tutorial/wiki_ko_model.wv.vectors.npy with mmap=None\n",
            "2019-07-31 11:32:48,513 : INFO : setting ignored attribute vectors_norm to None\n",
            "2019-07-31 11:32:48,514 : INFO : loading vocabulary recursively from ./korean_word_embedding_tutorial/wiki_ko_model.vocabulary.* with mmap=None\n",
            "2019-07-31 11:32:48,515 : INFO : loading trainables recursively from ./korean_word_embedding_tutorial/wiki_ko_model.trainables.* with mmap=None\n",
            "2019-07-31 11:32:48,516 : INFO : loading syn1neg from ./korean_word_embedding_tutorial/wiki_ko_model.trainables.syn1neg.npy with mmap=None\n",
            "2019-07-31 11:32:48,566 : INFO : setting ignored attribute cum_table to None\n",
            "2019-07-31 11:32:48,567 : INFO : loaded ./korean_word_embedding_tutorial/wiki_ko_model\n",
            "/usr/local/lib/python3.6/dist-packages/ipykernel_launcher.py:36: DeprecationWarning: Call to deprecated `__getitem__` (Method will be removed in 4.0.0, use self.wv.__getitem__() instead).\n"
          ],
          "name": "stderr"
        }
      ]
    },
    {
      "cell_type": "markdown",
      "metadata": {
        "id": "aftxxKcHif65",
        "colab_type": "text"
      },
      "source": [
        "# [Embedding projector](http://projector.tensorflow.org/)\n",
        "\n",
        "\n",
        "---\n",
        "\n",
        "\n",
        "![대체 텍스트](https://miro.medium.com/max/1200/1*Fat62b1ZITOFMPXTcHNkLw.jpeg)"
      ]
    }
  ]
}